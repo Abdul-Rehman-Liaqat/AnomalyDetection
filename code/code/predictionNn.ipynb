{
 "cells": [
  {
   "cell_type": "code",
   "execution_count": 10,
   "metadata": {
    "collapsed": true
   },
   "outputs": [],
   "source": [
    "import numpy as np\n",
    "import matplotlib.pyplot as plt\n",
    "import pandas as pd\n",
    "from keras.models import Sequential, Model\n",
    "from keras.layers import Conv1D, Flatten, Dropout, Dense\n",
    "from utility import get_sample_df,train_prediction_based_models\n",
    "from models import predictionNn"
   ]
  },
  {
   "cell_type": "code",
   "execution_count": 11,
   "metadata": {
    "collapsed": true
   },
   "outputs": [],
   "source": [
    "df = get_sample_df()"
   ]
  },
  {
   "cell_type": "code",
   "execution_count": 12,
   "metadata": {},
   "outputs": [
    {
     "name": "stdout",
     "output_type": "stream",
     "text": [
      "_________________________________________________________________\n",
      "Layer (type)                 Output Shape              Param #   \n",
      "=================================================================\n",
      "dense_3 (Dense)              (None, 5)                 105       \n",
      "_________________________________________________________________\n",
      "dense_4 (Dense)              (None, 1)                 6         \n",
      "=================================================================\n",
      "Total params: 111\n",
      "Trainable params: 111\n",
      "Non-trainable params: 0\n",
      "_________________________________________________________________\n"
     ]
    }
   ],
   "source": [
    "nb_features = 1\n",
    "window_size = 20\n",
    "input_shape = (window_size,)\n",
    "model = predictionNn(input_shape)\n",
    "probation_period = 750 if(len(df)>=5000) else int(0.15*len(df))"
   ]
  },
  {
   "cell_type": "code",
   "execution_count": 13,
   "metadata": {},
   "outputs": [],
   "source": [
    "original_df = df"
   ]
  },
  {
   "cell_type": "code",
   "execution_count": 14,
   "metadata": {},
   "outputs": [
    {
     "name": "stderr",
     "output_type": "stream",
     "text": [
      "/opt/conda/lib/python3.6/site-packages/keras/models.py:981: UserWarning:\n",
      "\n",
      "The `nb_epoch` argument in `fit` has been renamed `epochs`.\n",
      "\n",
      "/opt/conda/lib/python3.6/site-packages/ipykernel_launcher.py:16: SettingWithCopyWarning:\n",
      "\n",
      "\n",
      "A value is trying to be set on a copy of a slice from a DataFrame.\n",
      "Try using .loc[row_indexer,col_indexer] = value instead\n",
      "\n",
      "See the caveats in the documentation: http://pandas.pydata.org/pandas-docs/stable/indexing.html#indexing-view-versus-copy\n",
      "\n"
     ]
    }
   ],
   "source": [
    "end_point = 800\n",
    "df = original_df.iloc[0:end_point]\n",
    "nb_epoch = 100\n",
    "error_prediction = []\n",
    "convergence_history = []\n",
    "for i in np.arange(input_shape[0]+1,end_point):\n",
    "    X_input = df[\"value\"].values[i-(1+input_shape[0]):i-1].reshape((1,)+input_shape)\n",
    "    Y_input = df[\"value\"].values[i].reshape((1,1))\n",
    "    history = model.fit(X_input,Y_input , nb_epoch=nb_epoch, verbose=0)\n",
    "    error_prediction.append((model.predict(X_input) -Y_input)[0][0])\n",
    "    convergence_history.append(history.history)\n",
    "#        print(i)\n",
    "temp_no_error = [0]*(input_shape[0]+1)\n",
    "error_prediction = temp_no_error + error_prediction\n",
    "#error_prediction[0:probation_period] = [0]*probation_period\n",
    "df['anomaly_score'] = error_prediction\n"
   ]
  },
  {
   "cell_type": "code",
   "execution_count": 15,
   "metadata": {},
   "outputs": [
    {
     "data": {
      "text/plain": [
       "[<matplotlib.lines.Line2D at 0x7f639e29a3c8>]"
      ]
     },
     "execution_count": 15,
     "metadata": {},
     "output_type": "execute_result"
    },
    {
     "data": {
      "image/png": "[encoded data removed]",
      "text/plain": [
       "<Figure size 432x288 with 1 Axes>"
      ]
     },
     "metadata": {},
     "output_type": "display_data"
    }
   ],
   "source": [
    "plt.plot(convergence_history[-1]['loss'])\n",
    "#plt.plot(convergence_history[-2]['loss'])\n",
    "#plt.plot(convergence_history[-3]['loss'])\n",
    "#plt.plot(convergence_history[-4]['loss'])"
   ]
  },
  {
   "cell_type": "code",
   "execution_count": 19,
   "metadata": {},
   "outputs": [
    {
     "data": {
      "text/plain": [
       "array([  0.00000000e+00,   0.00000000e+00,   0.00000000e+00,\n",
       "         0.00000000e+00,   0.00000000e+00,   0.00000000e+00,\n",
       "         0.00000000e+00,   0.00000000e+00,   0.00000000e+00,\n",
       "         0.00000000e+00,   0.00000000e+00,   0.00000000e+00,\n",
       "         0.00000000e+00,   0.00000000e+00,   0.00000000e+00,\n",
       "         0.00000000e+00,   0.00000000e+00,   0.00000000e+00,\n",
       "         0.00000000e+00,   0.00000000e+00,   0.00000000e+00,\n",
       "        -1.77200000e+04,  -1.72490000e+04,  -1.84630000e+04,\n",
       "        -1.89080000e+04,  -1.88860000e+04,  -1.81780000e+04,\n",
       "        -1.32660156e+02,  -1.02148438e+00,   5.43945312e+00,\n",
       "        -1.05859375e+00,   7.78906250e+00,   1.62060547e+01,\n",
       "         1.25527344e+01,  -3.66992188e+00,   1.02988281e+01,\n",
       "         1.20859375e+01,   1.02617188e+01,  -2.72070312e+00,\n",
       "        -1.68476562e+01,  -1.64316406e+01,  -8.17578125e+00,\n",
       "         2.40195312e+01,   1.04824219e+01,  -4.45312500e-01,\n",
       "        -8.78125000e+00,  -2.16660156e+01,   2.98896484e+01,\n",
       "         1.47265625e+01,   4.46484375e+00,   5.10253906e-01,\n",
       "        -6.00097656e-01,  -1.10839844e+00,   1.62133789e+00,\n",
       "        -1.01708984e+00,  -1.54345703e+00,  -1.95556641e-01,\n",
       "        -7.88330078e-01,   4.33959961e+00,   8.91552734e+00,\n",
       "        -1.16123047e+01,   9.71484375e+00,   1.04355469e+01,\n",
       "         9.77734375e+00,   5.85351562e+00,   2.53906250e-01,\n",
       "        -2.17382812e+00,  -5.37304688e+00,  -3.57617188e+00,\n",
       "        -1.06035156e+01,  -6.02734375e+00,  -1.19980469e+01,\n",
       "         8.59375000e-02,  -7.23046875e+00,  -2.62500000e+00,\n",
       "        -7.01757812e+00,  -9.24414062e+00,  -3.79687500e+00,\n",
       "        -6.18359375e+00,  -1.37910156e+01,   2.13173828e+01,\n",
       "         8.63378906e+00,  -9.55468750e+00,   8.99023438e+00,\n",
       "         5.52343750e+00,   1.15234375e-01,   1.58789062e+00,\n",
       "        -6.74414062e+00,  -8.28515625e+00,   1.30703125e+01,\n",
       "         2.12304688e+00,   9.27734375e+00,   8.96484375e+00,\n",
       "         5.01953125e-01,   1.78828125e+01,  -2.33955078e+01,\n",
       "        -2.94921875e-01,  -3.48632812e-01,   4.50195312e-01,\n",
       "        -2.71630859e+00,  -1.59326172e+00,   4.20117188e+00,\n",
       "         1.39758301e+01,   3.40942383e+00,   6.77001953e-01,\n",
       "        -3.69116211e+00,  -8.00781250e-01,  -4.68115234e+00,\n",
       "         3.46679688e+00,   1.56562500e+01,   7.68066406e+00,\n",
       "         4.94140625e+00,  -2.06445312e+00,   1.00976562e+00,\n",
       "         1.67382812e+00,  -1.04882812e+00,  -3.51074219e+00,\n",
       "        -1.11054688e+01,  -1.10019531e+01,  -1.09062500e+01,\n",
       "        -1.08007812e+01,   1.62109375e+00,  -2.25000000e+00,\n",
       "         3.09960938e+00,   8.37500000e+00,   8.46679688e+00,\n",
       "        -4.89843750e+00,  -1.60527344e+01,   6.80859375e+00,\n",
       "         1.31708984e+01,   6.65625000e+00,   9.81250000e+00,\n",
       "        -1.92968750e+00,   2.27929688e+00,  -2.16523438e+01,\n",
       "        -2.09316406e+01,  -3.33203125e+00,   8.57617188e+00,\n",
       "        -4.04101562e+00,   5.10937500e+00,   1.35996094e+01,\n",
       "        -4.27734375e-01,   1.04960938e+01,  -4.64843750e+00,\n",
       "        -3.87109375e+00,   3.41406250e+00,   1.19775391e+01,\n",
       "         6.17675781e+00,  -5.25488281e+00,   4.80664062e+00,\n",
       "        -1.29018555e+01,  -1.30996094e+01,   9.00878906e-01,\n",
       "         1.62822266e+01,   7.21484375e+00,  -2.31250000e+00,\n",
       "        -3.87695312e-01,   1.31542969e+00,   1.10302734e+00,\n",
       "         1.45361328e+00,   4.50683594e-01,   8.71093750e-01,\n",
       "         2.21679688e+00,   2.60742188e-01,  -1.61914062e+00,\n",
       "        -6.54394531e+00,  -1.13593750e+01,  -1.75439453e+01,\n",
       "        -5.25585938e+00,   4.87304688e-01,   1.03369141e+01,\n",
       "        -4.89160156e+00,   2.88339844e+01,   6.54296875e-01,\n",
       "         3.51757812e+00,   9.18359375e+00,   3.09179688e+00,\n",
       "         2.03222656e+00,   6.07519531e+00,  -2.80273438e-01,\n",
       "         4.09179688e-01,  -2.95898438e+00,  -4.26953125e+00,\n",
       "        -7.08203125e+00,   4.78906250e+00,   7.79199219e+00,\n",
       "        -5.85937500e-01,  -1.68359375e+00,   1.16992188e+00,\n",
       "         1.75000000e+00,  -5.13671875e+00,   1.68554688e+00,\n",
       "        -9.29882812e+00,  -1.10869141e+01,  -3.54394531e+00,\n",
       "        -9.49218750e-01,   1.20507812e+00,  -2.40234375e-01,\n",
       "         1.83105469e-01,   1.41503906e+00,   5.84130859e+00,\n",
       "         6.26660156e+00,  -1.23242188e+00,  -1.85595703e+00,\n",
       "         5.21972656e-01,   1.07421875e-01,  -4.02099609e-01,\n",
       "         9.47265625e-01,  -5.03320312e+00,  -3.90625000e-02,\n",
       "        -4.21386719e-01,  -5.29980469e+00,  -5.18359375e+00,\n",
       "        -5.84570312e+00,  -5.06152344e+00,  -1.12509766e+01,\n",
       "        -2.99316406e+00,  -8.37792969e+00,  -8.33105469e+00,\n",
       "        -4.10742188e+00,  -4.97753906e+00,   3.09179688e+00,\n",
       "         7.50390625e+00,  -3.92578125e-01,   2.83105469e+00,\n",
       "        -2.74414062e-01,  -2.59179688e+00,   5.50781250e-01,\n",
       "        -1.32617188e+00,   6.55273438e-01,   3.76953125e-01,\n",
       "        -9.63867188e+00,  -1.24169922e+01,  -5.56054688e+00,\n",
       "         1.19628906e+00,  -3.67187500e-01,  -6.35937500e+00,\n",
       "        -6.09765625e+00,   5.66992188e+00,   1.84570312e+00,\n",
       "         3.61914062e+00,   1.30273438e+00,  -2.98730469e+00,\n",
       "        -5.66406250e-01,  -6.88476562e-01,  -2.80468750e+00,\n",
       "        -1.69140625e+00,  -6.90527344e+00,  -9.75585938e-01,\n",
       "         1.20620117e+01,  -6.35083008e+00,   1.11499023e+00,\n",
       "         3.48095703e+00,   4.60400391e+00,  -1.76464844e+00,\n",
       "         7.34375000e-01,  -4.04199219e+00,   2.59277344e+00,\n",
       "         9.83398438e-01,   2.64355469e+00,  -1.21191406e+00,\n",
       "        -6.71679688e+00,  -4.86621094e+00,  -4.89062500e+00,\n",
       "        -3.45703125e+00,   6.73828125e-02,   3.44433594e+00,\n",
       "         6.17285156e+00,   1.08457031e+01,   8.96582031e+00,\n",
       "        -6.93359375e-02,  -1.47558594e+00,   3.67968750e+00,\n",
       "        -8.27343750e+00,   3.91601562e-01,   7.84960938e+00,\n",
       "        -4.49414062e+00,  -6.52343750e+00,   3.90625000e-02,\n",
       "         5.44824219e+00,  -1.14619141e+01,  -3.74414062e+00,\n",
       "        -6.44042969e+00,  -1.23828125e+00,   1.82519531e+00,\n",
       "         1.93750000e+00,  -6.99902344e+00,  -8.16210938e+00,\n",
       "         4.91210938e+00,   9.00390625e-01,   4.83398438e+00,\n",
       "         2.31396484e+00,  -5.91772461e+00,   1.21337891e-01,\n",
       "         3.77722168e+00,  -4.94262695e-01,   1.89208984e-01,\n",
       "         6.15234375e-02,  -1.82861328e+00,   2.22070312e+00,\n",
       "         1.85546875e+00,   4.87890625e+00,   1.22363281e+00,\n",
       "        -1.14355469e+00,  -8.12500000e-01,   3.96484375e-01,\n",
       "        -7.82226562e+00,  -2.47851562e+00,  -3.86816406e+00,\n",
       "         8.67773438e+00,  -1.77070312e+01,   1.52539062e+00,\n",
       "        -6.05078125e+00,  -2.77343750e+00,  -5.43945312e-01,\n",
       "        -4.53125000e-01,  -2.21289062e+00,  -1.59570312e+00,\n",
       "        -2.65820312e+00,   1.37900391e+01,  -8.07031250e+00,\n",
       "        -1.40869141e+01,   1.48437500e-01,  -2.51171875e+00,\n",
       "         9.37500000e-01,  -2.40039062e+00,  -7.13476562e+00,\n",
       "        -3.04687500e-01,   9.89453125e+00,   1.25585938e+00,\n",
       "        -6.57226562e+00,   3.71093750e-01,  -1.24023438e+00,\n",
       "        -5.21484375e-01,   1.04951172e+01,  -1.42988281e+01,\n",
       "        -5.35546875e+00,   1.64013672e+00,   5.43261719e+00,\n",
       "        -1.68310547e+00,   5.05371094e-01,  -1.74023438e+00,\n",
       "         2.44165039e+00,   5.71423340e+00,   1.70825195e+00,\n",
       "         2.87182617e+00,   2.39233398e+00,  -4.97753906e+00,\n",
       "        -1.91406250e+00,   6.18164062e-01,   1.36425781e+00,\n",
       "        -4.68750000e-01,  -1.87500000e-01,  -6.09375000e-01,\n",
       "         1.91992188e+00,  -1.62109375e-01,  -6.81445312e+00,\n",
       "        -7.88281250e+00,   4.04687500e+00,  -2.21816406e+01,\n",
       "        -1.96914062e+01,  -1.72656250e+00,   2.10937500e+00,\n",
       "        -2.69531250e+00,  -2.43164062e+00,   1.50390625e+00,\n",
       "        -7.99609375e+00,  -9.18945312e+00,  -2.31835938e+01,\n",
       "         3.62988281e+00,   2.59375000e+00,   2.48046875e+00,\n",
       "        -9.02343750e+00,   7.81250000e-02,   7.85937500e+00,\n",
       "         1.28281250e+01,  -1.64179688e+01,  -7.97656250e+00,\n",
       "         6.96289062e+00,  -4.21484375e+00,  -1.38886719e+01,\n",
       "        -9.57812500e+00,   1.87968750e+01,  -1.15429688e+01,\n",
       "        -1.29423828e+01,   3.20410156e+00,   8.41162109e+00,\n",
       "         3.45019531e+00,   7.46386719e+00,   4.63867188e-02,\n",
       "         3.28125000e+00,   1.00446777e+01,  -6.24609375e+00,\n",
       "        -3.04760742e+00,   8.75000000e-01,   5.97802734e+00,\n",
       "         9.76318359e+00,   1.77119141e+01,   6.87500000e-01,\n",
       "        -2.02343750e+00,   9.67578125e+00,  -1.02343750e+00,\n",
       "         1.47851562e+00,   1.80468750e+00,   2.34375000e+00,\n",
       "        -5.15820312e+00,  -8.13671875e+00,  -1.79863281e+01,\n",
       "        -1.42324219e+01,  -4.65429688e+00,   3.82226562e+00,\n",
       "         3.22265625e+00,  -3.61328125e+00,  -3.16406250e-01,\n",
       "        -4.12304688e+00,  -4.84570312e+00,  -2.21601562e+01,\n",
       "        -9.76074219e+00,  -2.91015625e-01,  -7.75781250e+00,\n",
       "        -1.11523438e+00,   4.84960938e+00,  -4.12109375e-01,\n",
       "         1.99414062e+00,  -1.22128906e+01,  -2.34355469e+01,\n",
       "         8.35351562e+00,  -3.64843750e+00,  -2.53710938e+00,\n",
       "        -1.72265625e+00,   3.61718750e+00,  -1.55683594e+01,\n",
       "         1.92421875e+01,   4.13574219e+00,   3.79882812e-01,\n",
       "        -8.49609375e-01,  -1.59619141e+00,  -3.65722656e-01,\n",
       "        -1.14990234e-01,  -4.49316406e+00,   6.65771484e-01,\n",
       "        -1.67431641e+00,  -2.02636719e-01,   1.06835938e+00,\n",
       "         2.63281250e+00,   1.82431641e+01,   2.65625000e-01,\n",
       "         1.17187500e-02,   1.21093750e+00,  -2.20117188e+00,\n",
       "        -1.56250000e+00,  -3.37890625e-01,   3.51171875e+00,\n",
       "        -6.91796875e+00,  -9.80371094e+00,  -1.38183594e+01,\n",
       "        -1.10585938e+01,  -3.08203125e+00,   3.39843750e-01,\n",
       "         1.00410156e+01,   3.22851562e+00,  -4.72851562e+00,\n",
       "         6.76757812e+00,   5.33203125e+00,  -1.98339844e+00,\n",
       "         1.58593750e+01,   3.25292969e+00,   7.85351562e+00,\n",
       "        -6.04101562e+00,  -3.56640625e+00,   1.14453125e+00,\n",
       "        -6.51953125e+00,   1.50683594e+01,  -1.39316406e+01,\n",
       "        -5.59179688e+00,  -2.47656250e+00,  -1.62695312e+00,\n",
       "         1.23632812e+00,   1.28261719e+01,   2.66406250e+00,\n",
       "        -2.51171875e+00,  -8.70117188e+00,  -8.61328125e-01,\n",
       "         1.98046875e+00,  -2.46875000e+00,  -3.84423828e+00,\n",
       "         2.55761719e+00,  -5.85546875e+00,  -2.41992188e+00,\n",
       "        -4.33447266e+00,   2.02124023e+00,  -6.54492188e+00,\n",
       "        -3.59130859e+00,  -7.40917969e+00,  -3.53808594e+00,\n",
       "         9.09179688e-01,  -4.93750000e+00,   1.95312500e-03,\n",
       "         2.63867188e+00,  -8.41406250e+00,  -1.33789062e+00,\n",
       "         1.08593750e+00,  -2.19140625e+00,  -1.92792969e+01,\n",
       "        -1.12968750e+01,  -3.24218750e+00,  -1.29687500e+00,\n",
       "         5.15039062e+00,   1.13750000e+01,   1.22656250e+00,\n",
       "         2.40039062e+00,  -1.07744141e+01,   9.33007812e+00,\n",
       "         7.52441406e+00,   6.91406250e+00,   5.41210938e+00,\n",
       "        -6.86132812e+00,   2.99609375e+00,  -1.30273438e+00,\n",
       "        -2.55859375e-01,   4.74414062e+00,   6.42578125e-01,\n",
       "        -1.04687500e+01,  -1.24609375e+00,   3.30078125e+00,\n",
       "         5.29882812e+00,   1.36718750e-01,   1.87500000e+00,\n",
       "         4.43359375e-01,   1.39257812e+00,   5.82031250e-01,\n",
       "         4.43359375e-01,  -2.11523438e+00,   5.99609375e+00,\n",
       "        -1.54404297e+01,   1.75781250e+00,   6.20898438e+00,\n",
       "        -8.24462891e+00,   4.56982422e+00,  -1.34985352e+00,\n",
       "        -7.70239258e+00,  -1.25786133e+01,  -5.33740234e+00,\n",
       "        -6.54296875e-02,   8.88671875e-02,   8.13671875e+00,\n",
       "        -1.10546875e+00,  -5.33007812e+00,   3.32031250e+00,\n",
       "         4.22363281e+00,  -1.34765625e+00,   5.29882812e+00,\n",
       "         1.26562500e+00,   6.77929688e+00,   4.60351562e+00,\n",
       "         7.57812500e-01,  -7.61718750e-02,   6.32031250e+00,\n",
       "         2.07617188e+00,  -4.76171875e+00,   3.39257812e+00,\n",
       "         4.25390625e+00,   8.43750000e-01,   8.23242188e+00,\n",
       "         2.03710938e+00,  -2.14257812e+00,  -7.02539062e+00,\n",
       "         1.36113281e+01,  -1.36679688e+01,  -2.82617188e+00,\n",
       "         1.95117188e+00,  -3.90625000e-03,  -4.89257812e+00,\n",
       "        -1.00371094e+01,   2.61718750e-01,  -1.69531250e+00,\n",
       "        -4.88085938e+00,  -5.85742188e+00,  -6.54492188e+00,\n",
       "         1.25605469e+01,   1.78320312e+00,  -9.24609375e+00,\n",
       "         1.13320312e+01,   7.65820312e+00,   2.44140625e-01,\n",
       "         1.04331055e+01,   5.54492188e+00,  -4.02099609e-01,\n",
       "        -7.91503906e-01,  -1.09008789e+00,  -7.39013672e-01,\n",
       "        -4.35839844e+00,  -1.46484375e-02,  -2.01660156e+00,\n",
       "        -2.16308594e-01,   1.01269531e+01,  -7.47949219e+00,\n",
       "        -7.10937500e-01,   6.60644531e+00,  -3.81835938e+00,\n",
       "         8.59375000e-02,   4.42578125e+00,   4.35546875e+00,\n",
       "         8.67968750e+00,   1.41777344e+01,   9.52734375e+00,\n",
       "        -4.90039062e+00,  -1.92773438e+00,   1.33164062e+01,\n",
       "        -1.90917969e+00,  -2.50683594e+00,   3.13867188e+01,\n",
       "         5.93359375e+00,  -1.84882812e+01,  -5.92187500e+00,\n",
       "         3.12500000e-01,   7.59472656e+00,   2.62695312e-01,\n",
       "         8.91992188e+00,   1.61523438e+00,  -5.53613281e+00,\n",
       "         2.14257812e+00,   8.36328125e+00,  -2.29492188e-01,\n",
       "         8.42382812e+00,  -2.75390625e-01,  -4.41894531e-01,\n",
       "        -3.85888672e+00,   2.19506836e+00,  -2.06005859e+00,\n",
       "         4.15014648e+00,   7.06237793e+00,  -1.22216797e+00,\n",
       "        -7.25122070e+00,  -4.72656250e+00,  -3.80175781e+00,\n",
       "         8.69775391e+00,   1.82119141e+01,   6.58886719e+00,\n",
       "        -2.91406250e+00,   6.66015625e-01,   1.25390625e+00,\n",
       "        -6.30078125e+00,   1.37500000e+00,  -4.13574219e+00,\n",
       "         5.41503906e+00,   2.60058594e+00,   1.38095703e+01,\n",
       "         9.52929688e+00,   5.95703125e-02,  -1.88476562e-01,\n",
       "        -5.90820312e+00,  -1.63867188e+00,   5.68359375e-01,\n",
       "        -5.15234375e+00,  -4.88085938e+00,   1.29326172e+01,\n",
       "         1.09189453e+01,  -7.98828125e-01,   9.33593750e+00,\n",
       "        -9.10156250e-01,   7.46679688e+00,   1.01621094e+01,\n",
       "         1.28750000e+01,  -1.24414062e+00,   1.00683594e+01,\n",
       "        -1.01015625e+01,   2.73437500e-02,   1.60351562e+00,\n",
       "         1.23046875e+01,  -1.21562500e+01,   9.39062500e+00,\n",
       "         1.04960938e+01,   3.90625000e-02,   1.35009766e+00,\n",
       "        -4.39453125e-03,  -1.03759766e-01,  -1.02539062e+00,\n",
       "        -6.06201172e+00,  -3.30993652e+00,  -3.03613281e+00,\n",
       "        -3.80615234e+00,   4.67138672e+00,   8.81152344e+00,\n",
       "         3.02539062e+00,  -1.97861328e+01,  -5.18750000e+00,\n",
       "         6.56640625e+00,  -3.16210938e+00,   7.76171875e+00,\n",
       "        -1.46093750e+00,  -5.27343750e-01,  -1.48437500e-01,\n",
       "        -2.19921875e+00,   2.10546875e+00,  -1.84101562e+01,\n",
       "        -8.69921875e+00,   1.90234375e+00,   1.06445312e+00,\n",
       "         3.91406250e+00,   2.03125000e+01,  -1.49804688e+00,\n",
       "        -1.04335938e+01,  -1.81953125e+01,   2.57539062e+01,\n",
       "         1.33720703e+01,   3.98437500e-01,   1.52792969e+01,\n",
       "         5.85937500e-03,  -5.48046875e+00,   1.55273438e+00,\n",
       "         5.84765625e+00,  -6.20312500e+00,  -7.29492188e+00,\n",
       "        -3.45507812e+00,  -6.62109375e-01,   3.57031250e+00,\n",
       "        -5.94335938e+00,  -1.06250000e+01,   4.07128906e+00,\n",
       "         1.61162109e+01,  -7.13867188e-01,   3.32617188e+00,\n",
       "         4.68847656e+00,   4.33447266e+00,  -1.99462891e-01,\n",
       "        -9.91821289e+00,  -1.08601074e+01,  -4.06274414e+00,\n",
       "        -1.30200195e+00,   2.40478516e-01,   4.25732422e+00,\n",
       "         1.53564453e+01,   1.11357422e+01,  -4.11230469e+00,\n",
       "        -6.14062500e+00,   5.04492188e+00,  -2.48242188e+00,\n",
       "         2.16601562e+00,   5.41015625e-01,   2.59179688e+00,\n",
       "        -3.54492188e+00,  -3.40039062e+00,  -1.75410156e+01,\n",
       "        -1.14179688e+01,  -2.16992188e+00,   4.55078125e-01,\n",
       "         7.02148438e+00,   5.88476562e+00,  -2.31445312e+00,\n",
       "         2.93554688e+00,  -1.89257812e+00,  -1.50654297e+01,\n",
       "        -7.36328125e+00,   3.76562500e+00,  -4.13281250e+00,\n",
       "        -5.97070312e+00,   2.25195312e+00,   3.57812500e+00,\n",
       "        -8.47460938e+00,  -2.83203125e-01,   5.42578125e+00,\n",
       "         1.44140625e+00,   3.21093750e+00,  -2.85156250e+00,\n",
       "        -3.10156250e+00,  -9.77929688e+00,   4.67382812e+00,\n",
       "         9.69335938e+00,  -1.42128906e+01,  -2.71093750e+00,\n",
       "        -4.04296875e-01,   1.30322266e+00,   3.17382812e-02,\n",
       "        -8.59375000e-01,   7.73925781e+00,   5.58789062e+00,\n",
       "         6.02758789e+00,   2.63256836e+00,  -9.41259766e+00,\n",
       "        -1.21323242e+01,  -1.71523438e+01,   1.99609375e+00,\n",
       "         3.51562500e-01,   9.82421875e-01,   1.42773438e+00,\n",
       "         7.84570312e+00,   1.47265625e+00,  -3.32031250e-01,\n",
       "         1.73828125e-01,  -4.05273438e+00,  -1.90917969e+01,\n",
       "        -1.30996094e+01,  -6.67187500e+00,  -2.53906250e-02,\n",
       "         9.18359375e+00,   6.53710938e+00,  -1.82031250e+00,\n",
       "        -1.13925781e+01,   1.24335938e+01])"
      ]
     },
     "execution_count": 19,
     "metadata": {},
     "output_type": "execute_result"
    }
   ],
   "source": [
    "df.anomaly_score.values"
   ]
  },
  {
   "cell_type": "code",
   "execution_count": 16,
   "metadata": {},
   "outputs": [],
   "source": [
    "df.loc[0:1548] = sum(df.anomaly_score)/len(df)"
   ]
  },
  {
   "cell_type": "code",
   "execution_count": 18,
   "metadata": {},
   "outputs": [
    {
     "data": {
      "text/plain": [
       "[<matplotlib.lines.Line2D at 0x7efff6bd3d68>]"
      ]
     },
     "execution_count": 18,
     "metadata": {},
     "output_type": "execute_result"
    },
    {
     "data": {
      "image/png": "[encoded data removed]",
      "text/plain": [
       "<Figure size 432x288 with 1 Axes>"
      ]
     },
     "metadata": {},
     "output_type": "display_data"
    }
   ],
   "source": [
    "plt.plot(df.anomaly_score)"
   ]
  },
  {
   "cell_type": "code",
   "execution_count": 27,
   "metadata": {},
   "outputs": [
    {
     "data": {
      "text/plain": [
       "[<matplotlib.lines.Line2D at 0x7efff4622898>]"
      ]
     },
     "execution_count": 27,
     "metadata": {},
     "output_type": "execute_result"
    },
    {
     "data": {
      "image/png": "[encoded data removed]",
      "text/plain": [
       "<Figure size 432x288 with 1 Axes>"
      ]
     },
     "metadata": {},
     "output_type": "display_data"
    }
   ],
   "source": [
    "contextOSE_df = pd.read_csv(\"results/contextOSE/realKnownCause/contextOSE_nyc_taxi.csv\")\n",
    "plt.plot(contextOSE_df.anomaly_score)"
   ]
  },
  {
   "cell_type": "code",
   "execution_count": 1,
   "metadata": {},
   "outputs": [],
   "source": [
    "import pickle"
   ]
  },
  {
   "cell_type": "code",
   "execution_count": null,
   "metadata": {},
   "outputs": [],
   "source": []
  }
 ],
 "metadata": {
  "kernelspec": {
   "display_name": "Python 3",
   "language": "python",
   "name": "python3"
  },
  "language_info": {
   "codemirror_mode": {
    "name": "ipython",
    "version": 3
   },
   "file_extension": ".py",
   "mimetype": "text/x-python",
   "name": "python",
   "nbconvert_exporter": "python",
   "pygments_lexer": "ipython3",
   "version": "3.6.5"
  }
 },
 "nbformat": 4,
 "nbformat_minor": 2
}
